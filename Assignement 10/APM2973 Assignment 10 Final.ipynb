{
 "cells": [
  {
   "cell_type": "markdown",
   "id": "8d0fcbc9",
   "metadata": {},
   "source": [
    "# Assignment 10\n",
    "For more in depth analysis of this assignment please look through README.md"
   ]
  },
  {
   "cell_type": "markdown",
   "id": "7b5fee31",
   "metadata": {},
   "source": [
    "## Hypothisis\n",
    "I believe that when the model is tasked with testing the toxic labeled smaller text examples it will return a higher output than the toxic labeled text with longer text examples because they will be more direct."
   ]
  },
  {
   "cell_type": "markdown",
   "id": "ba0a2b41",
   "metadata": {},
   "source": [
    "## Importing libraries"
   ]
  },
  {
   "cell_type": "code",
   "execution_count": 23,
   "id": "450b6230",
   "metadata": {},
   "outputs": [],
   "source": [
    "import pandas as pd\n",
    "#Used for dataframes\n",
    "from googleapiclient import discovery\n",
    "from googleapiclient.discovery import build\n",
    "#Used for using the Google Perspective API\n",
    "import json\n",
    "#Used for formating the toxicity score requests\n",
    "import re\n",
    "#Used for testing the words in the text examples"
   ]
  },
  {
   "cell_type": "markdown",
   "id": "cd7bf92f",
   "metadata": {},
   "source": [
    "## Initializing data into a dataframe"
   ]
  },
  {
   "cell_type": "code",
   "execution_count": 24,
   "id": "ec89700d",
   "metadata": {},
   "outputs": [
    {
     "data": {
      "text/html": [
       "<div>\n",
       "<style scoped>\n",
       "    .dataframe tbody tr th:only-of-type {\n",
       "        vertical-align: middle;\n",
       "    }\n",
       "\n",
       "    .dataframe tbody tr th {\n",
       "        vertical-align: top;\n",
       "    }\n",
       "\n",
       "    .dataframe thead th {\n",
       "        text-align: right;\n",
       "    }\n",
       "</style>\n",
       "<table border=\"1\" class=\"dataframe\">\n",
       "  <thead>\n",
       "    <tr style=\"text-align: right;\">\n",
       "      <th></th>\n",
       "      <th>Unnamed: 0</th>\n",
       "      <th>id</th>\n",
       "      <th>comment_text</th>\n",
       "      <th>toxic</th>\n",
       "    </tr>\n",
       "  </thead>\n",
       "  <tbody>\n",
       "    <tr>\n",
       "      <th>0</th>\n",
       "      <td>5</td>\n",
       "      <td>0001ea8717f6de06</td>\n",
       "      <td>Thank you for understanding I think very highly of you and would not revert without discussion</td>\n",
       "      <td>no</td>\n",
       "    </tr>\n",
       "    <tr>\n",
       "      <th>1</th>\n",
       "      <td>7</td>\n",
       "      <td>000247e83dcc1211</td>\n",
       "      <td>Dear god this site is horrible</td>\n",
       "      <td>no</td>\n",
       "    </tr>\n",
       "    <tr>\n",
       "      <th>2</th>\n",
       "      <td>11</td>\n",
       "      <td>0002f87b16116a7f</td>\n",
       "      <td>Somebody will invariably try to add Religion  Really  You mean the way people have invariably kept adding Religion to the Samuel Beckett infobox  And why do you bother bringing up the longdead completely nonexistent Influences issue  Youre just flailing making up crap on the fly   For comparison the only explicit acknowledgement in the entire Amos Oz article that he is personally Jewish is in the categories</td>\n",
       "      <td>no</td>\n",
       "    </tr>\n",
       "    <tr>\n",
       "      <th>3</th>\n",
       "      <td>13</td>\n",
       "      <td>0003e1cccfd5a40a</td>\n",
       "      <td>It says it right there that it IS a type The Type of institution is needed in this case because there are three levels of SUNY schools  University Centers and Doctoral Granting Institutions  State Colleges  Community Colleges  It is needed in this case to clarify that UB is a SUNY Center It says it even in Binghamton University University at Albany State University of New York and Stony Brook University Stop trying to say its not because I am totally right in this case</td>\n",
       "      <td>no</td>\n",
       "    </tr>\n",
       "    <tr>\n",
       "      <th>4</th>\n",
       "      <td>14</td>\n",
       "      <td>00059ace3e3e9a53</td>\n",
       "      <td>Before adding a new product to the list make sure its relevant   Before adding a new product to the list make sure it has a wikipedia entry already proving its relevance and giving the reader the possibility to read more about it  Otherwise it could be subject to deletion See this articles revision history</td>\n",
       "      <td>no</td>\n",
       "    </tr>\n",
       "  </tbody>\n",
       "</table>\n",
       "</div>"
      ],
      "text/plain": [
       "   Unnamed: 0                id  \\\n",
       "0           5  0001ea8717f6de06   \n",
       "1           7  000247e83dcc1211   \n",
       "2          11  0002f87b16116a7f   \n",
       "3          13  0003e1cccfd5a40a   \n",
       "4          14  00059ace3e3e9a53   \n",
       "\n",
       "                                                                                                                                                                                                                                                                                                                                                                                                                                                                                  comment_text  \\\n",
       "0                                                                                                                                                                                                                                                                                                                                                                                               Thank you for understanding I think very highly of you and would not revert without discussion   \n",
       "1                                                                                                                                                                                                                                                                                                                                                                                                                                                               Dear god this site is horrible   \n",
       "2                                                              Somebody will invariably try to add Religion  Really  You mean the way people have invariably kept adding Religion to the Samuel Beckett infobox  And why do you bother bringing up the longdead completely nonexistent Influences issue  Youre just flailing making up crap on the fly   For comparison the only explicit acknowledgement in the entire Amos Oz article that he is personally Jewish is in the categories        \n",
       "3    It says it right there that it IS a type The Type of institution is needed in this case because there are three levels of SUNY schools  University Centers and Doctoral Granting Institutions  State Colleges  Community Colleges  It is needed in this case to clarify that UB is a SUNY Center It says it even in Binghamton University University at Albany State University of New York and Stony Brook University Stop trying to say its not because I am totally right in this case   \n",
       "4                                                                                                                                                                          Before adding a new product to the list make sure its relevant   Before adding a new product to the list make sure it has a wikipedia entry already proving its relevance and giving the reader the possibility to read more about it  Otherwise it could be subject to deletion See this articles revision history   \n",
       "\n",
       "  toxic  \n",
       "0    no  \n",
       "1    no  \n",
       "2    no  \n",
       "3    no  \n",
       "4    no  "
      ]
     },
     "execution_count": 24,
     "metadata": {},
     "output_type": "execute_result"
    }
   ],
   "source": [
    "df = pd.read_csv(\"Sample_labaled_data.csv\")\n",
    "#Creating a dataframe with the csv\n",
    "pd.set_option(\"display.max_colwidth\", None)\n",
    "#Expands the size that can be displayed in columns\n",
    "df.head()\n",
    "#Displaying the first 5 rows"
   ]
  },
  {
   "cell_type": "markdown",
   "id": "bd4f745e",
   "metadata": {},
   "source": [
    "## Setting up the Perspective API"
   ]
  },
  {
   "cell_type": "code",
   "execution_count": 25,
   "id": "60ba0707",
   "metadata": {},
   "outputs": [
    {
     "name": "stdout",
     "output_type": "stream",
     "text": [
      "{\n",
      "  \"attributeScores\": {\n",
      "    \"TOXICITY\": {\n",
      "      \"spanScores\": [\n",
      "        {\n",
      "          \"begin\": 0,\n",
      "          \"end\": 30,\n",
      "          \"score\": {\n",
      "            \"value\": 0.02543884,\n",
      "            \"type\": \"PROBABILITY\"\n",
      "          }\n",
      "        }\n",
      "      ],\n",
      "      \"summaryScore\": {\n",
      "        \"value\": 0.02543884,\n",
      "        \"type\": \"PROBABILITY\"\n",
      "      }\n",
      "    }\n",
      "  },\n",
      "  \"languages\": [\n",
      "    \"en\"\n",
      "  ],\n",
      "  \"detectedLanguages\": [\n",
      "    \"en\"\n",
      "  ]\n",
      "}\n"
     ]
    }
   ],
   "source": [
    "API_KEY = 'not today :)'\n",
    "\n",
    "client = discovery.build(\n",
    "  \"commentanalyzer\",\n",
    "  \"v1alpha1\",\n",
    "  developerKey=API_KEY,\n",
    "  discoveryServiceUrl=\"https://commentanalyzer.googleapis.com/$discovery/rest?version=v1alpha1\",\n",
    "  static_discovery=False,\n",
    ")\n",
    "\n",
    "analyze_request = {\n",
    "  'comment': { 'text': 'friendly greetings from python' },\n",
    "  'requestedAttributes': {'TOXICITY': {}}\n",
    "}\n",
    "\n",
    "response = client.comments().analyze(body=analyze_request).execute()\n",
    "print(json.dumps(response, indent=2))"
   ]
  },
  {
   "cell_type": "markdown",
   "id": "087ef061",
   "metadata": {},
   "source": [
    "## Setting up `get_toxcicity_score()`"
   ]
  },
  {
   "cell_type": "code",
   "execution_count": 26,
   "id": "96d97e37",
   "metadata": {},
   "outputs": [
    {
     "data": {
      "text/plain": [
       "0.8403191"
      ]
     },
     "execution_count": 26,
     "metadata": {},
     "output_type": "execute_result"
    }
   ],
   "source": [
    "def get_toxicity_score(comment):\n",
    "    \n",
    "    #Put individual API KEY here\n",
    "    API_KEY = 'haha wont be that easy'\n",
    "    \n",
    "    client = build(\n",
    "    \"commentanalyzer\"\n",
    "    \"v1alpha1\",\n",
    "    developerKey=API_KEY,\n",
    "    discoveryServiceUrl=\"https://commentanalyzer.googleapis.com/$discovery/rest?version=v1alpha1\",\n",
    "    static_discovery=False,\n",
    "    version=2.0,\n",
    "    )\n",
    "    \n",
    "    analyze_request = {\n",
    "    'comment': {'text' : comment }, \n",
    "    'requestedAttributes': {'TOXICITY': {}}\n",
    "    }\n",
    "    \n",
    "    response = client.comments().analyze(body=analyze_request).execute()\n",
    "    toxicity_score = response[\"attributeScores\"][\"TOXICITY\"][\"summaryScore\"][\"value\"]\n",
    "    \n",
    "    return toxicity_score\n",
    "\n",
    "get_toxicity_score(\"Fuck\")\n",
    "#Testing to make sure that the API is connected"
   ]
  },
  {
   "cell_type": "markdown",
   "id": "d94c08a9",
   "metadata": {},
   "source": [
    "## Creating `toxic_df` as a df with only toxic comments"
   ]
  },
  {
   "cell_type": "code",
   "execution_count": 27,
   "id": "7f1b39ed",
   "metadata": {},
   "outputs": [
    {
     "data": {
      "text/html": [
       "<div>\n",
       "<style scoped>\n",
       "    .dataframe tbody tr th:only-of-type {\n",
       "        vertical-align: middle;\n",
       "    }\n",
       "\n",
       "    .dataframe tbody tr th {\n",
       "        vertical-align: top;\n",
       "    }\n",
       "\n",
       "    .dataframe thead th {\n",
       "        text-align: right;\n",
       "    }\n",
       "</style>\n",
       "<table border=\"1\" class=\"dataframe\">\n",
       "  <thead>\n",
       "    <tr style=\"text-align: right;\">\n",
       "      <th></th>\n",
       "      <th>Unnamed: 0</th>\n",
       "      <th>id</th>\n",
       "      <th>comment_text</th>\n",
       "      <th>toxic</th>\n",
       "    </tr>\n",
       "  </thead>\n",
       "  <tbody>\n",
       "    <tr>\n",
       "      <th>8</th>\n",
       "      <td>21</td>\n",
       "      <td>00091c35fa9d0465</td>\n",
       "      <td>Arabs are committing genocide in Iraq but no protests in Europe   May Europe also burn in hell</td>\n",
       "      <td>yes</td>\n",
       "    </tr>\n",
       "    <tr>\n",
       "      <th>34</th>\n",
       "      <td>76</td>\n",
       "      <td>001d739c97bc2ae4</td>\n",
       "      <td>How dare you vandalize that page about the HMS Beagle Dont vandalize again demon</td>\n",
       "      <td>yes</td>\n",
       "    </tr>\n",
       "    <tr>\n",
       "      <th>36</th>\n",
       "      <td>81</td>\n",
       "      <td>001eff4007dbb65b</td>\n",
       "      <td>No he is an arrogant self serving immature idiot Get it right</td>\n",
       "      <td>yes</td>\n",
       "    </tr>\n",
       "    <tr>\n",
       "      <th>81</th>\n",
       "      <td>219</td>\n",
       "      <td>005f47397e07e12f</td>\n",
       "      <td>Eek but shes cute in an earthy kind of way Cant sing for shit though Thanks for giving me an unhappy memory</td>\n",
       "      <td>yes</td>\n",
       "    </tr>\n",
       "    <tr>\n",
       "      <th>97</th>\n",
       "      <td>258</td>\n",
       "      <td>0071940212267fea</td>\n",
       "      <td>Well it sucks to have a university to be nicknameless And its the first time in NCAA history that it has happened</td>\n",
       "      <td>yes</td>\n",
       "    </tr>\n",
       "  </tbody>\n",
       "</table>\n",
       "</div>"
      ],
      "text/plain": [
       "    Unnamed: 0                id  \\\n",
       "8           21  00091c35fa9d0465   \n",
       "34          76  001d739c97bc2ae4   \n",
       "36          81  001eff4007dbb65b   \n",
       "81         219  005f47397e07e12f   \n",
       "97         258  0071940212267fea   \n",
       "\n",
       "                                                                                                          comment_text  \\\n",
       "8                       Arabs are committing genocide in Iraq but no protests in Europe   May Europe also burn in hell   \n",
       "34                                    How dare you vandalize that page about the HMS Beagle Dont vandalize again demon   \n",
       "36                                                       No he is an arrogant self serving immature idiot Get it right   \n",
       "81         Eek but shes cute in an earthy kind of way Cant sing for shit though Thanks for giving me an unhappy memory   \n",
       "97  Well it sucks to have a university to be nicknameless And its the first time in NCAA history that it has happened    \n",
       "\n",
       "   toxic  \n",
       "8    yes  \n",
       "34   yes  \n",
       "36   yes  \n",
       "81   yes  \n",
       "97   yes  "
      ]
     },
     "execution_count": 27,
     "metadata": {},
     "output_type": "execute_result"
    }
   ],
   "source": [
    "toxic_df = df[df[\"toxic\"]== \"yes\"]\n",
    "#New dataframe selecting only rows from df that \"toxic\" == \"yes\"\n",
    "toxic_df.head()\n",
    "#Testing to see if toxic_df is only toxic"
   ]
  },
  {
   "cell_type": "markdown",
   "id": "1c084430",
   "metadata": {},
   "source": [
    "## Adding in a `word_count` column"
   ]
  },
  {
   "cell_type": "code",
   "execution_count": 28,
   "id": "ff0d2ae6",
   "metadata": {},
   "outputs": [
    {
     "data": {
      "text/plain": [
       "5"
      ]
     },
     "execution_count": 28,
     "metadata": {},
     "output_type": "execute_result"
    }
   ],
   "source": [
    "def count_words(text):\n",
    "    return len(re.findall(r\"\\S+\", text))\n",
    "#Function that when given a text returns the amount of words\n",
    "\n",
    "count_words(\"Hello I'm an informatics student\")\n",
    "#Testing the function. Expected output 5"
   ]
  },
  {
   "cell_type": "code",
   "execution_count": 29,
   "id": "388c39bf",
   "metadata": {
    "scrolled": true
   },
   "outputs": [
    {
     "name": "stderr",
     "output_type": "stream",
     "text": [
      "/var/folders/jb/nm5l9lgx191_s3f60k3czs200000gn/T/ipykernel_4565/105711229.py:1: SettingWithCopyWarning: \n",
      "A value is trying to be set on a copy of a slice from a DataFrame.\n",
      "Try using .loc[row_indexer,col_indexer] = value instead\n",
      "\n",
      "See the caveats in the documentation: https://pandas.pydata.org/pandas-docs/stable/user_guide/indexing.html#returning-a-view-versus-a-copy\n",
      "  toxic_df[\"word_count\"] = toxic_df[\"comment_text\"].apply(count_words)\n"
     ]
    },
    {
     "data": {
      "text/html": [
       "<div>\n",
       "<style scoped>\n",
       "    .dataframe tbody tr th:only-of-type {\n",
       "        vertical-align: middle;\n",
       "    }\n",
       "\n",
       "    .dataframe tbody tr th {\n",
       "        vertical-align: top;\n",
       "    }\n",
       "\n",
       "    .dataframe thead th {\n",
       "        text-align: right;\n",
       "    }\n",
       "</style>\n",
       "<table border=\"1\" class=\"dataframe\">\n",
       "  <thead>\n",
       "    <tr style=\"text-align: right;\">\n",
       "      <th></th>\n",
       "      <th>Unnamed: 0</th>\n",
       "      <th>id</th>\n",
       "      <th>comment_text</th>\n",
       "      <th>toxic</th>\n",
       "      <th>word_count</th>\n",
       "    </tr>\n",
       "  </thead>\n",
       "  <tbody>\n",
       "    <tr>\n",
       "      <th>8</th>\n",
       "      <td>21</td>\n",
       "      <td>00091c35fa9d0465</td>\n",
       "      <td>Arabs are committing genocide in Iraq but no protests in Europe   May Europe also burn in hell</td>\n",
       "      <td>yes</td>\n",
       "      <td>17</td>\n",
       "    </tr>\n",
       "    <tr>\n",
       "      <th>34</th>\n",
       "      <td>76</td>\n",
       "      <td>001d739c97bc2ae4</td>\n",
       "      <td>How dare you vandalize that page about the HMS Beagle Dont vandalize again demon</td>\n",
       "      <td>yes</td>\n",
       "      <td>14</td>\n",
       "    </tr>\n",
       "    <tr>\n",
       "      <th>36</th>\n",
       "      <td>81</td>\n",
       "      <td>001eff4007dbb65b</td>\n",
       "      <td>No he is an arrogant self serving immature idiot Get it right</td>\n",
       "      <td>yes</td>\n",
       "      <td>12</td>\n",
       "    </tr>\n",
       "    <tr>\n",
       "      <th>81</th>\n",
       "      <td>219</td>\n",
       "      <td>005f47397e07e12f</td>\n",
       "      <td>Eek but shes cute in an earthy kind of way Cant sing for shit though Thanks for giving me an unhappy memory</td>\n",
       "      <td>yes</td>\n",
       "      <td>22</td>\n",
       "    </tr>\n",
       "    <tr>\n",
       "      <th>97</th>\n",
       "      <td>258</td>\n",
       "      <td>0071940212267fea</td>\n",
       "      <td>Well it sucks to have a university to be nicknameless And its the first time in NCAA history that it has happened</td>\n",
       "      <td>yes</td>\n",
       "      <td>22</td>\n",
       "    </tr>\n",
       "  </tbody>\n",
       "</table>\n",
       "</div>"
      ],
      "text/plain": [
       "    Unnamed: 0                id  \\\n",
       "8           21  00091c35fa9d0465   \n",
       "34          76  001d739c97bc2ae4   \n",
       "36          81  001eff4007dbb65b   \n",
       "81         219  005f47397e07e12f   \n",
       "97         258  0071940212267fea   \n",
       "\n",
       "                                                                                                          comment_text  \\\n",
       "8                       Arabs are committing genocide in Iraq but no protests in Europe   May Europe also burn in hell   \n",
       "34                                    How dare you vandalize that page about the HMS Beagle Dont vandalize again demon   \n",
       "36                                                       No he is an arrogant self serving immature idiot Get it right   \n",
       "81         Eek but shes cute in an earthy kind of way Cant sing for shit though Thanks for giving me an unhappy memory   \n",
       "97  Well it sucks to have a university to be nicknameless And its the first time in NCAA history that it has happened    \n",
       "\n",
       "   toxic  word_count  \n",
       "8    yes          17  \n",
       "34   yes          14  \n",
       "36   yes          12  \n",
       "81   yes          22  \n",
       "97   yes          22  "
      ]
     },
     "execution_count": 29,
     "metadata": {},
     "output_type": "execute_result"
    }
   ],
   "source": [
    "toxic_df[\"word_count\"] = toxic_df[\"comment_text\"].apply(count_words)\n",
    "\n",
    "toxic_df.head()"
   ]
  },
  {
   "cell_type": "markdown",
   "id": "963d020d",
   "metadata": {},
   "source": [
    "## Resizing the test dataframe"
   ]
  },
  {
   "cell_type": "code",
   "execution_count": 30,
   "id": "2fdfd17d",
   "metadata": {},
   "outputs": [],
   "source": [
    "test_toxic_df = toxic_df.head(30)\n",
    "#Uses properties of head() to create a test frame with 30 rows"
   ]
  },
  {
   "cell_type": "markdown",
   "id": "9b534594",
   "metadata": {},
   "source": [
    "## Creating a `score` column in `test_toxic_df`"
   ]
  },
  {
   "cell_type": "code",
   "execution_count": 31,
   "id": "f3e60d88",
   "metadata": {
    "scrolled": true
   },
   "outputs": [
    {
     "name": "stderr",
     "output_type": "stream",
     "text": [
      "/var/folders/jb/nm5l9lgx191_s3f60k3czs200000gn/T/ipykernel_4565/1649992182.py:1: SettingWithCopyWarning: \n",
      "A value is trying to be set on a copy of a slice from a DataFrame.\n",
      "Try using .loc[row_indexer,col_indexer] = value instead\n",
      "\n",
      "See the caveats in the documentation: https://pandas.pydata.org/pandas-docs/stable/user_guide/indexing.html#returning-a-view-versus-a-copy\n",
      "  test_toxic_df[\"score\"] = test_toxic_df[\"comment_text\"].apply(get_toxicity_score)\n"
     ]
    },
    {
     "data": {
      "text/html": [
       "<div>\n",
       "<style scoped>\n",
       "    .dataframe tbody tr th:only-of-type {\n",
       "        vertical-align: middle;\n",
       "    }\n",
       "\n",
       "    .dataframe tbody tr th {\n",
       "        vertical-align: top;\n",
       "    }\n",
       "\n",
       "    .dataframe thead th {\n",
       "        text-align: right;\n",
       "    }\n",
       "</style>\n",
       "<table border=\"1\" class=\"dataframe\">\n",
       "  <thead>\n",
       "    <tr style=\"text-align: right;\">\n",
       "      <th></th>\n",
       "      <th>Unnamed: 0</th>\n",
       "      <th>id</th>\n",
       "      <th>comment_text</th>\n",
       "      <th>toxic</th>\n",
       "      <th>word_count</th>\n",
       "      <th>score</th>\n",
       "    </tr>\n",
       "  </thead>\n",
       "  <tbody>\n",
       "    <tr>\n",
       "      <th>8</th>\n",
       "      <td>21</td>\n",
       "      <td>00091c35fa9d0465</td>\n",
       "      <td>Arabs are committing genocide in Iraq but no protests in Europe   May Europe also burn in hell</td>\n",
       "      <td>yes</td>\n",
       "      <td>17</td>\n",
       "      <td>0.718943</td>\n",
       "    </tr>\n",
       "    <tr>\n",
       "      <th>34</th>\n",
       "      <td>76</td>\n",
       "      <td>001d739c97bc2ae4</td>\n",
       "      <td>How dare you vandalize that page about the HMS Beagle Dont vandalize again demon</td>\n",
       "      <td>yes</td>\n",
       "      <td>14</td>\n",
       "      <td>0.572199</td>\n",
       "    </tr>\n",
       "    <tr>\n",
       "      <th>36</th>\n",
       "      <td>81</td>\n",
       "      <td>001eff4007dbb65b</td>\n",
       "      <td>No he is an arrogant self serving immature idiot Get it right</td>\n",
       "      <td>yes</td>\n",
       "      <td>12</td>\n",
       "      <td>0.877870</td>\n",
       "    </tr>\n",
       "    <tr>\n",
       "      <th>81</th>\n",
       "      <td>219</td>\n",
       "      <td>005f47397e07e12f</td>\n",
       "      <td>Eek but shes cute in an earthy kind of way Cant sing for shit though Thanks for giving me an unhappy memory</td>\n",
       "      <td>yes</td>\n",
       "      <td>22</td>\n",
       "      <td>0.649120</td>\n",
       "    </tr>\n",
       "    <tr>\n",
       "      <th>97</th>\n",
       "      <td>258</td>\n",
       "      <td>0071940212267fea</td>\n",
       "      <td>Well it sucks to have a university to be nicknameless And its the first time in NCAA history that it has happened</td>\n",
       "      <td>yes</td>\n",
       "      <td>22</td>\n",
       "      <td>0.457030</td>\n",
       "    </tr>\n",
       "  </tbody>\n",
       "</table>\n",
       "</div>"
      ],
      "text/plain": [
       "    Unnamed: 0                id  \\\n",
       "8           21  00091c35fa9d0465   \n",
       "34          76  001d739c97bc2ae4   \n",
       "36          81  001eff4007dbb65b   \n",
       "81         219  005f47397e07e12f   \n",
       "97         258  0071940212267fea   \n",
       "\n",
       "                                                                                                          comment_text  \\\n",
       "8                       Arabs are committing genocide in Iraq but no protests in Europe   May Europe also burn in hell   \n",
       "34                                    How dare you vandalize that page about the HMS Beagle Dont vandalize again demon   \n",
       "36                                                       No he is an arrogant self serving immature idiot Get it right   \n",
       "81         Eek but shes cute in an earthy kind of way Cant sing for shit though Thanks for giving me an unhappy memory   \n",
       "97  Well it sucks to have a university to be nicknameless And its the first time in NCAA history that it has happened    \n",
       "\n",
       "   toxic  word_count     score  \n",
       "8    yes          17  0.718943  \n",
       "34   yes          14  0.572199  \n",
       "36   yes          12  0.877870  \n",
       "81   yes          22  0.649120  \n",
       "97   yes          22  0.457030  "
      ]
     },
     "execution_count": 31,
     "metadata": {},
     "output_type": "execute_result"
    }
   ],
   "source": [
    "test_toxic_df[\"score\"] = test_toxic_df[\"comment_text\"].apply(get_toxicity_score)\n",
    "\n",
    "test_toxic_df.head()"
   ]
  },
  {
   "cell_type": "markdown",
   "id": "4c8ba409",
   "metadata": {},
   "source": [
    "## Saving the data to a new csv to not overload API"
   ]
  },
  {
   "cell_type": "code",
   "execution_count": 32,
   "id": "5acff73f",
   "metadata": {},
   "outputs": [
    {
     "data": {
      "text/plain": [
       "'\\nCreates testing_data.csv\\nindex = False indicates not including index for rows\\n'"
      ]
     },
     "execution_count": 32,
     "metadata": {},
     "output_type": "execute_result"
    }
   ],
   "source": [
    "test_toxic_df.to_csv(\"testing_data.csv\", index= False)\n",
    "\"\"\"\n",
    "Creates testing_data.csv\n",
    "index = False indicates not including index for rows\n",
    "\"\"\""
   ]
  },
  {
   "cell_type": "markdown",
   "id": "b9e107e6",
   "metadata": {},
   "source": [
    "# Testing "
   ]
  },
  {
   "cell_type": "markdown",
   "id": "8b49e984",
   "metadata": {},
   "source": [
    "## Importing Libraries"
   ]
  },
  {
   "cell_type": "code",
   "execution_count": 33,
   "id": "2d6efc00",
   "metadata": {
    "scrolled": true
   },
   "outputs": [
    {
     "data": {
      "image/png": "[encoded data removed]",
      "text/plain": [
       "<Figure size 640x480 with 1 Axes>"
      ]
     },
     "metadata": {},
     "output_type": "display_data"
    }
   ],
   "source": [
    "import matplotlib.pyplot as plt\n",
    "\n",
    "plot_test_df = pd.read_csv(\"testing_data.csv\")\n",
    "\n",
    "plt.scatter(plot_test_df[\"word_count\"], plot_test_df[\"score\"])\n",
    "\n",
    "plt.xlabel(\"Num of Words\")\n",
    "plt.ylabel(\"Toxic Score\")\n",
    "plt.show()"
   ]
  },
  {
   "cell_type": "markdown",
   "id": "39a7aecc",
   "metadata": {},
   "source": [
    "## Reflecting the first plot\n",
    "As shown above there isn't much information that we can conclude about the data because of the outlier point at 222 words. To fix this I chose to remove all points above 50 words."
   ]
  },
  {
   "cell_type": "code",
   "execution_count": 38,
   "id": "d1f201da",
   "metadata": {},
   "outputs": [
    {
     "data": {
      "text/plain": [
       "'\\nUsing loc will locate the rows in the dataframe \\nthat are less than 50 and keep them in the dataframe\\n'"
      ]
     },
     "execution_count": 38,
     "metadata": {},
     "output_type": "execute_result"
    }
   ],
   "source": [
    "plot_test_df = plot_test_df.loc[plot_test_df[\"word_count\"]<= 50]\n",
    "\"\"\"\n",
    "Using loc will locate the rows in the dataframe \n",
    "that are less than 50 and keep them in the dataframe\n",
    "\"\"\""
   ]
  },
  {
   "cell_type": "markdown",
   "id": "f7ef2116",
   "metadata": {},
   "source": [
    "## Plotting the data again for the second test"
   ]
  },
  {
   "cell_type": "code",
   "execution_count": 39,
   "id": "25d80ef6",
   "metadata": {
    "scrolled": true
   },
   "outputs": [
    {
     "data": {
      "image/png": "[encoded data removed]",
      "text/plain": [
       "<Figure size 640x480 with 1 Axes>"
      ]
     },
     "metadata": {},
     "output_type": "display_data"
    }
   ],
   "source": [
    "import matplotlib.pyplot as plt\n",
    "\n",
    "plt.scatter(plot_test_df[\"word_count\"], plot_test_df[\"score\"])\n",
    "\n",
    "plt.xlabel(\"Num of Words\")\n",
    "plt.ylabel(\"Toxic Score\")\n",
    "plt.show()"
   ]
  },
  {
   "cell_type": "markdown",
   "id": "45e6d075",
   "metadata": {},
   "source": [
    "## Creating a regression line on the plot"
   ]
  },
  {
   "cell_type": "code",
   "execution_count": 41,
   "id": "de1485b8",
   "metadata": {},
   "outputs": [
    {
     "data": {
      "image/png": "[encoded data removed]",
      "text/plain": [
       "<Figure size 640x480 with 1 Axes>"
      ]
     },
     "metadata": {},
     "output_type": "display_data"
    }
   ],
   "source": [
    "import numpy as np\n",
    "import scipy.stats as stats\n",
    "\n",
    "x = plot_test_df[\"word_count\"]\n",
    "y = plot_test_df[\"score\"]\n",
    "#Setting x and y to the dataframe columns\n",
    "\n",
    "slope, intercept, r, p, std_err = stats.linregress(x, y)\n",
    "#Linear regression calculation\n",
    "line = slope * x + intercept\n",
    "#Creating a line from calculation\n",
    "\n",
    "#Creating the plot\n",
    "fig, ax = plt.subplots()\n",
    "#fig used from pyplot, short for figure, ax is the subplot\n",
    "ax.scatter(x, y, label=\"Datapoints\")\n",
    "#Scatter plot for the datapoints\n",
    "ax.plot(x, line, color=\"red\", label=\"Regression Line\")\n",
    "#Plotting the regression line\n",
    "ax.set_xlabel(\"Num of Words\")\n",
    "ax.set_ylabel(\"Toxic Score\")\n",
    "ax.legend()\n",
    "plt.show()\n"
   ]
  },
  {
   "cell_type": "markdown",
   "id": "55a1bf85",
   "metadata": {},
   "source": [
    "# Reflection"
   ]
  },
  {
   "cell_type": "markdown",
   "id": "fe5aca04",
   "metadata": {},
   "source": [
    "Throughout this assignment I hit my fair share of roadbumps, from making too many API requests to looking through old assignments to find the one example of the opperation that I needed to do, it took a while to get to the end. In the final graph displayed it showed that my hypothesis was correct in that the lower `word_count` rows in the `toxic == yes` catigory did have higher toxicity scores. One thing to point out however is the lack of data that I was able to calculate. Of the original 3,843 rows that were toxic I was only able to run `get_toxicity_score()` on the first 30 and ended up losing rows when I removed the ones with above 50 words. In all the conclusions that can be drawn from this data should be taken with a heavy grain of salt because I wasnt able to test the original 1000 that I wanted to test."
   ]
  },
  {
   "cell_type": "markdown",
   "id": "28d9b65a",
   "metadata": {},
   "source": [
    "# Testing `get_toxicity_score()`"
   ]
  },
  {
   "cell_type": "code",
   "execution_count": 42,
   "id": "c4b18fa5",
   "metadata": {},
   "outputs": [
    {
     "data": {
      "text/plain": [
       "0.6020386"
      ]
     },
     "execution_count": 42,
     "metadata": {},
     "output_type": "execute_result"
    }
   ],
   "source": [
    "get_toxicity_score(\"I hate men\")"
   ]
  },
  {
   "cell_type": "code",
   "execution_count": 43,
   "id": "4b8c64d7",
   "metadata": {},
   "outputs": [
    {
     "data": {
      "text/plain": [
       "0.74954444"
      ]
     },
     "execution_count": 43,
     "metadata": {},
     "output_type": "execute_result"
    }
   ],
   "source": [
    "get_toxicity_score(\"I hate women\")"
   ]
  },
  {
   "cell_type": "code",
   "execution_count": 44,
   "id": "1886e8c8",
   "metadata": {},
   "outputs": [
    {
     "data": {
      "text/plain": [
       "0.7675452"
      ]
     },
     "execution_count": 44,
     "metadata": {},
     "output_type": "execute_result"
    }
   ],
   "source": [
    "get_toxicity_score(\"I hate whites\")"
   ]
  },
  {
   "cell_type": "code",
   "execution_count": 45,
   "id": "2548266f",
   "metadata": {},
   "outputs": [
    {
     "data": {
      "text/plain": [
       "0.85333383"
      ]
     },
     "execution_count": 45,
     "metadata": {},
     "output_type": "execute_result"
    }
   ],
   "source": [
    "get_toxicity_score(\"I hate blacks\")"
   ]
  },
  {
   "cell_type": "code",
   "execution_count": 46,
   "id": "8782a8bf",
   "metadata": {},
   "outputs": [
    {
     "data": {
      "text/plain": [
       "0.032391842"
      ]
     },
     "execution_count": 46,
     "metadata": {},
     "output_type": "execute_result"
    }
   ],
   "source": [
    "get_toxicity_score(\"I love my mom\")"
   ]
  },
  {
   "cell_type": "code",
   "execution_count": 47,
   "id": "af840fbb",
   "metadata": {},
   "outputs": [
    {
     "data": {
      "text/plain": [
       "0.029563503"
      ]
     },
     "execution_count": 47,
     "metadata": {},
     "output_type": "execute_result"
    }
   ],
   "source": [
    "get_toxicity_score(\"I love my grandma\")"
   ]
  },
  {
   "cell_type": "code",
   "execution_count": 48,
   "id": "9e2e4146",
   "metadata": {},
   "outputs": [
    {
     "data": {
      "text/plain": [
       "0.029092113"
      ]
     },
     "execution_count": 48,
     "metadata": {},
     "output_type": "execute_result"
    }
   ],
   "source": [
    "get_toxicity_score(\"I love my dad\")"
   ]
  },
  {
   "cell_type": "code",
   "execution_count": 49,
   "id": "ef54706f",
   "metadata": {},
   "outputs": [
    {
     "data": {
      "text/plain": [
       "0.028149333"
      ]
     },
     "execution_count": 49,
     "metadata": {},
     "output_type": "execute_result"
    }
   ],
   "source": [
    "get_toxicity_score(\"I love my grandpa\")"
   ]
  },
  {
   "cell_type": "code",
   "execution_count": 50,
   "id": "47e20b28",
   "metadata": {},
   "outputs": [
    {
     "data": {
      "text/plain": [
       "0.018723432"
      ]
     },
     "execution_count": 50,
     "metadata": {},
     "output_type": "execute_result"
    }
   ],
   "source": [
    "get_toxicity_score(\"TRUMP2020\")"
   ]
  },
  {
   "cell_type": "code",
   "execution_count": 51,
   "id": "91a74cd8",
   "metadata": {},
   "outputs": [
    {
     "data": {
      "text/plain": [
       "0.013508516"
      ]
     },
     "execution_count": 51,
     "metadata": {},
     "output_type": "execute_result"
    }
   ],
   "source": [
    "get_toxicity_score(\"BIDEN2020\")"
   ]
  },
  {
   "cell_type": "code",
   "execution_count": 52,
   "id": "254f3915",
   "metadata": {},
   "outputs": [
    {
     "data": {
      "text/plain": [
       "0.13041082"
      ]
     },
     "execution_count": 52,
     "metadata": {},
     "output_type": "execute_result"
    }
   ],
   "source": [
    "get_toxicity_score(\"Black Lives Matter\")"
   ]
  },
  {
   "cell_type": "code",
   "execution_count": 53,
   "id": "ddb83d40",
   "metadata": {},
   "outputs": [
    {
     "data": {
      "text/plain": [
       "0.0154562555"
      ]
     },
     "execution_count": 53,
     "metadata": {},
     "output_type": "execute_result"
    }
   ],
   "source": [
    "get_toxicity_score(\"All Lives Matter\")"
   ]
  },
  {
   "cell_type": "markdown",
   "id": "db26d4d0",
   "metadata": {},
   "source": [
    "# Testing out `get_toxicity_score` results"
   ]
  },
  {
   "cell_type": "markdown",
   "id": "f8594550",
   "metadata": {},
   "source": [
    "After testing out the API some of the tests that I wanted to examine were the realtion of gender and race have on the outcome of the score. I found that when refering to women poorly the score is higher but it is also higher when refering to women in a positive way. From this and the other test that I ran it is clear that due to the bias of some of the comments that the model has been trained on there could be some statements that could have similar meaning but with different toxicity scores."
   ]
  }
 ],
 "metadata": {
  "kernelspec": {
   "display_name": "Python 3 (ipykernel)",
   "language": "python",
   "name": "python3"
  },
  "language_info": {
   "codemirror_mode": {
    "name": "ipython",
    "version": 3
   },
   "file_extension": ".py",
   "mimetype": "text/x-python",
   "name": "python",
   "nbconvert_exporter": "python",
   "pygments_lexer": "ipython3",
   "version": "3.9.13"
  }
 },
 "nbformat": 4,
 "nbformat_minor": 5
}
